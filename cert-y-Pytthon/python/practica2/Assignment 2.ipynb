{
 "cells": [
  {
   "cell_type": "markdown",
   "metadata": {},
   "source": [
    "21. Escribir un programa que determine si el año es bisiesto. Un año es bisiesto si es\n",
    "múltiplo de 4 (1988), excepto los múltiplos de 100 que no son bisiestos salvo que a su\n",
    "vez también sean múltiplos de 400 (1800no es bisiesto, 2000 sí)."
   ]
  },
  {
   "cell_type": "code",
   "execution_count": 4,
   "metadata": {},
   "outputs": [
    {
     "name": "stdout",
     "output_type": "stream",
     "text": [
      "Introduce el año: 1800\n",
      "No es bisiesto \n"
     ]
    }
   ],
   "source": [
    "year = int(input(\"Introduce el año: \"))\n",
    "if(year%4==0):\n",
    "    if(year%100==0):\n",
    "        if(year%400==0):\n",
    "            print(\"Es bisiesto \")\n",
    "        else:\n",
    "            print(\"No es bisiesto \") \n",
    "    else:\n",
    "        print(\"Es bisiesto \")\n",
    "else:\n",
    "    print(\"No es bisiesto \")"
   ]
  },
  {
   "cell_type": "markdown",
   "metadata": {},
   "source": [
    "22. Dado los valores de A, B, C que son los coeficientes de la ecuación de segundo grado,\n",
    "hallar sus raíces reales, desplegar los resultados.\n"
   ]
  },
  {
   "cell_type": "code",
   "execution_count": 9,
   "metadata": {},
   "outputs": [
    {
     "name": "stdout",
     "output_type": "stream",
     "text": [
      "Introduce el valor de A: 3\n",
      "Introduce el valor de B: 5\n",
      "Introduce el valor de C: 2\n",
      "Las soluciones son:  -1.0  y  -0.6666666666666666\n"
     ]
    }
   ],
   "source": [
    "import math\n",
    "a = int(input(\"Introduce el valor de A: \"))\n",
    "b = int(input(\"Introduce el valor de B: \"))\n",
    "c = int(input(\"Introduce el valor de C: \"))\n",
    "if( ((b*b)-4*c*a) >=0 ):\n",
    "    resultado= (-b-math.sqrt((b*b)-4*c*a))/(2*a)\n",
    "    resultado2= (-b+math.sqrt((b*b)-4*c*a))/(2*a)\n",
    "    print(\"Las soluciones son: \" , resultado,\" y \",resultado2)\n",
    "else:\n",
    "    print(\"Los coeficientes no tienen raices reales\")"
   ]
  },
  {
   "cell_type": "markdown",
   "metadata": {},
   "source": [
    "23. Dado dos valores A y B, realizar el producto de los dos números por sumas sucesivas,\n",
    "almacenar el resultado en una variable P, mostrar el resultado."
   ]
  },
  {
   "cell_type": "code",
   "execution_count": 14,
   "metadata": {},
   "outputs": [
    {
     "name": "stdout",
     "output_type": "stream",
     "text": [
      "Introduce el valor de A: 10\n",
      "Introduce el valor de B: 10\n",
      "El producto de  10  y  10  es: 100\n"
     ]
    }
   ],
   "source": [
    "a = int(input(\"Introduce el valor de A: \"))\n",
    "b = int(input(\"Introduce el valor de B: \"))\n",
    "cont=1\n",
    "p=0\n",
    "while(cont<=a):\n",
    "    p+=b\n",
    "    cont+=1\n",
    "print(\"El producto de \", a ,\" y \",b , \" es:\", p)"
   ]
  },
  {
   "cell_type": "markdown",
   "metadata": {},
   "source": [
    "24.Dado un número X, determinar el número de dígitos del que esta compuesto y\n",
    "desplegar el resultado."
   ]
  },
  {
   "cell_type": "code",
   "execution_count": 29,
   "metadata": {},
   "outputs": [
    {
     "name": "stdout",
     "output_type": "stream",
     "text": [
      "Introduce el valor de X para contar los digitos: 1238992\n",
      "7\n"
     ]
    }
   ],
   "source": [
    "x =  int(input(\"Introduce el valor de X para contar los digitos: \"))\n",
    "cont2=1\n",
    "while(x>=10):\n",
    "    x/=10\n",
    "    cont2+=1\n",
    "print(cont2)"
   ]
  },
  {
   "cell_type": "markdown",
   "metadata": {},
   "source": [
    "25. Escribir un programa que calcule y visualice el más grande, el más pequeño y la media\n",
    "de N números. El valor de N se solicitará al principio del programa y los números\n",
    "serán introducidos por el usuario."
   ]
  },
  {
   "cell_type": "code",
   "execution_count": 34,
   "metadata": {},
   "outputs": [
    {
     "name": "stdout",
     "output_type": "stream",
     "text": [
      "Cuantos numeros quiere ingresar?: 5\n",
      "Ingrese un numero: 5\n",
      "Ingrese un numero: 5\n",
      "Ingrese un numero: 5\n",
      "Ingrese un numero: 5\n",
      "Ingrese un numero: 5\n",
      "El numero mayor es:  5\n",
      "El numero mayor es:  5\n",
      "El numero mayor es:  5.0\n"
     ]
    }
   ],
   "source": [
    "n = int (input(\"Cuantos numeros quiere ingresar?: \"))\n",
    "listaNum = list()\n",
    "suma=0\n",
    "while(len(listaNum) < n):\n",
    "    num = int(input(\"Ingrese un numero: \"))\n",
    "    suma+=num\n",
    "    listaNum.append(num)\n",
    "print(\"El numero mayor es: \", max(listaNum))\n",
    "print(\"El numero mayor es: \", min(listaNum))\n",
    "print(\"El numero mayor es: \", suma/len(listaNum))"
   ]
  },
  {
   "cell_type": "markdown",
   "metadata": {},
   "source": [
    "26. Dado dos números A y B enteros mayores a cero, hallar A^B por sumas. Desplegar los\n",
    "números y el resultado."
   ]
  },
  {
   "cell_type": "code",
   "execution_count": 53,
   "metadata": {},
   "outputs": [
    {
     "name": "stdout",
     "output_type": "stream",
     "text": [
      "Introduce el valor de A: 5\n",
      "Introduce el valor de B: 10\n",
      "A^B con los valores:  5  y  10 . Es: 9765625\n"
     ]
    }
   ],
   "source": [
    "a = int(input(\"Introduce el valor de A: \"))\n",
    "b = int(input(\"Introduce el valor de B: \"))\n",
    "p=0\n",
    "aux=b\n",
    "aux2=a\n",
    "while(aux>1):\n",
    "    cont=1\n",
    "    while(cont<=aux2):\n",
    "        p+=a\n",
    "        cont+=1\n",
    "    aux2=p\n",
    "    p=0\n",
    "    aux-=1\n",
    "if(b==1):\n",
    "    p=a \n",
    "if(b==0):\n",
    "    p=1\n",
    "print(\"A^B con los valores: \", a ,\" y \",b , \". Es:\", aux2)"
   ]
  },
  {
   "cell_type": "markdown",
   "metadata": {},
   "source": [
    "27. La constante pi (3.1441592...) es muy utilizada en matemáticas. Un método sencillo\n",
    "de calcular su valor es:\n",
    "\n",
    "\n",
    "Escribir un programa que efectúe este cálculo con un número de términos\n",
    "especificando por el usuario."
   ]
  },
  {
   "cell_type": "code",
   "execution_count": 65,
   "metadata": {},
   "outputs": [
    {
     "name": "stdout",
     "output_type": "stream",
     "text": [
      "Especifique el numero de términos : 200\n",
      "El valor de pi con 200 terminos es : 3.1337874906281575\n"
     ]
    }
   ],
   "source": [
    "terminos = int(input(\"Especifique el numero de términos : \"))\n",
    "pi=2\n",
    "a=2\n",
    "b=1\n",
    "for i in range(1 , terminos+1):\n",
    "    pi*=a/b\n",
    "    if(i%2==0):\n",
    "        a+=2\n",
    "    else:\n",
    "        b+=2\n",
    "print(\"El valor de pi con\", terminos, \"terminos es :\",pi)"
   ]
  },
  {
   "cell_type": "markdown",
   "metadata": {},
   "source": [
    "28. El valor de e^x se puede aproximar por la suma Escribir un programa que tome un valor de x como entrada y visualice la suma para cada uno de los valores de 1 a 100."
   ]
  },
  {
   "cell_type": "code",
   "execution_count": 83,
   "metadata": {},
   "outputs": [
    {
     "name": "stdout",
     "output_type": "stream",
     "text": [
      "Para hallar el valor de  e^x introduce el valor de x : 2\n",
      "Con el valor  1  e vale: 3.0\n",
      "Con el valor  2  e vale: 5.0\n",
      "Con el valor  3  e vale: 6.333333333333333\n",
      "Con el valor  4  e vale: 7.0\n",
      "Con el valor  5  e vale: 7.266666666666667\n",
      "Con el valor  6  e vale: 7.355555555555555\n",
      "Con el valor  7  e vale: 7.3809523809523805\n",
      "Con el valor  8  e vale: 7.387301587301587\n",
      "Con el valor  9  e vale: 7.3887125220458545\n",
      "Con el valor  10  e vale: 7.388994708994708\n",
      "Con el valor  11  e vale: 7.389046015712681\n",
      "Con el valor  12  e vale: 7.3890545668323435\n",
      "Con el valor  13  e vale: 7.389055882389215\n",
      "Con el valor  14  e vale: 7.3890560703259105\n",
      "Con el valor  15  e vale: 7.389056095384136\n",
      "Con el valor  16  e vale: 7.389056098516415\n",
      "Con el valor  17  e vale: 7.389056098884918\n",
      "Con el valor  18  e vale: 7.389056098925863\n",
      "Con el valor  19  e vale: 7.3890560989301735\n",
      "Con el valor  20  e vale: 7.389056098930604\n",
      "Con el valor  21  e vale: 7.389056098930645\n",
      "Con el valor  22  e vale: 7.389056098930649\n",
      "Con el valor  23  e vale: 7.389056098930649\n",
      "Con el valor  24  e vale: 7.389056098930649\n",
      "Con el valor  25  e vale: 7.389056098930649\n",
      "Con el valor  26  e vale: 7.389056098930649\n",
      "Con el valor  27  e vale: 7.389056098930649\n",
      "Con el valor  28  e vale: 7.389056098930649\n",
      "Con el valor  29  e vale: 7.389056098930649\n",
      "Con el valor  30  e vale: 7.389056098930649\n",
      "Con el valor  31  e vale: 7.389056098930649\n",
      "Con el valor  32  e vale: 7.389056098930649\n",
      "Con el valor  33  e vale: 7.389056098930649\n",
      "Con el valor  34  e vale: 7.389056098930649\n",
      "Con el valor  35  e vale: 7.389056098930649\n",
      "Con el valor  36  e vale: 7.389056098930649\n",
      "Con el valor  37  e vale: 7.389056098930649\n",
      "Con el valor  38  e vale: 7.389056098930649\n",
      "Con el valor  39  e vale: 7.389056098930649\n",
      "Con el valor  40  e vale: 7.389056098930649\n",
      "Con el valor  41  e vale: 7.389056098930649\n",
      "Con el valor  42  e vale: 7.389056098930649\n",
      "Con el valor  43  e vale: 7.389056098930649\n",
      "Con el valor  44  e vale: 7.389056098930649\n",
      "Con el valor  45  e vale: 7.389056098930649\n",
      "Con el valor  46  e vale: 7.389056098930649\n",
      "Con el valor  47  e vale: 7.389056098930649\n",
      "Con el valor  48  e vale: 7.389056098930649\n",
      "Con el valor  49  e vale: 7.389056098930649\n",
      "Con el valor  50  e vale: 7.389056098930649\n",
      "Con el valor  51  e vale: 7.389056098930649\n",
      "Con el valor  52  e vale: 7.389056098930649\n",
      "Con el valor  53  e vale: 7.389056098930649\n",
      "Con el valor  54  e vale: 7.389056098930649\n",
      "Con el valor  55  e vale: 7.389056098930649\n",
      "Con el valor  56  e vale: 7.389056098930649\n",
      "Con el valor  57  e vale: 7.389056098930649\n",
      "Con el valor  58  e vale: 7.389056098930649\n",
      "Con el valor  59  e vale: 7.389056098930649\n",
      "Con el valor  60  e vale: 7.389056098930649\n",
      "Con el valor  61  e vale: 7.389056098930649\n",
      "Con el valor  62  e vale: 7.389056098930649\n",
      "Con el valor  63  e vale: 7.389056098930649\n",
      "Con el valor  64  e vale: 7.389056098930649\n",
      "Con el valor  65  e vale: 7.389056098930649\n",
      "Con el valor  66  e vale: 7.389056098930649\n",
      "Con el valor  67  e vale: 7.389056098930649\n",
      "Con el valor  68  e vale: 7.389056098930649\n",
      "Con el valor  69  e vale: 7.389056098930649\n",
      "Con el valor  70  e vale: 7.389056098930649\n",
      "Con el valor  71  e vale: 7.389056098930649\n",
      "Con el valor  72  e vale: 7.389056098930649\n",
      "Con el valor  73  e vale: 7.389056098930649\n",
      "Con el valor  74  e vale: 7.389056098930649\n",
      "Con el valor  75  e vale: 7.389056098930649\n",
      "Con el valor  76  e vale: 7.389056098930649\n",
      "Con el valor  77  e vale: 7.389056098930649\n",
      "Con el valor  78  e vale: 7.389056098930649\n",
      "Con el valor  79  e vale: 7.389056098930649\n",
      "Con el valor  80  e vale: 7.389056098930649\n",
      "Con el valor  81  e vale: 7.389056098930649\n",
      "Con el valor  82  e vale: 7.389056098930649\n",
      "Con el valor  83  e vale: 7.389056098930649\n",
      "Con el valor  84  e vale: 7.389056098930649\n",
      "Con el valor  85  e vale: 7.389056098930649\n",
      "Con el valor  86  e vale: 7.389056098930649\n",
      "Con el valor  87  e vale: 7.389056098930649\n",
      "Con el valor  88  e vale: 7.389056098930649\n",
      "Con el valor  89  e vale: 7.389056098930649\n",
      "Con el valor  90  e vale: 7.389056098930649\n",
      "Con el valor  91  e vale: 7.389056098930649\n",
      "Con el valor  92  e vale: 7.389056098930649\n",
      "Con el valor  93  e vale: 7.389056098930649\n",
      "Con el valor  94  e vale: 7.389056098930649\n",
      "Con el valor  95  e vale: 7.389056098930649\n",
      "Con el valor  96  e vale: 7.389056098930649\n",
      "Con el valor  97  e vale: 7.389056098930649\n",
      "Con el valor  98  e vale: 7.389056098930649\n",
      "Con el valor  99  e vale: 7.389056098930649\n",
      "Con el valor  100  e vale: 7.389056098930649\n"
     ]
    }
   ],
   "source": [
    "x= int(input(\"Para hallar el valor de  e^x introduce el valor de x : \"))\n",
    "def factorial(x):\n",
    "    fac=1\n",
    "    if(x>1):\n",
    "        for a in range(1,x+1):\n",
    "            fac*=a\n",
    "        return fac\n",
    "    else:\n",
    "        return fac\n",
    "e=1\n",
    "for i in range(1 , 101):\n",
    "    e+=pow(x, i)/factorial(i)\n",
    "    print(\"Con el valor \",i,\" e vale:\",e)\n"
   ]
  },
  {
   "cell_type": "markdown",
   "metadata": {},
   "source": [
    "29. Calcular la suma de todos los elementos de un vector, así como la media aritmética."
   ]
  },
  {
   "cell_type": "code",
   "execution_count": 115,
   "metadata": {},
   "outputs": [
    {
     "name": "stdout",
     "output_type": "stream",
     "text": [
      "La suma del vector es  71  y la media es 14.2\n"
     ]
    }
   ],
   "source": [
    "vec = [5, 10, 30, 22, 4]\n",
    "suma=0\n",
    "for x in vec:\n",
    "    suma+=x\n",
    "print(\"La suma del vector es \", suma , \" y la media es\", suma/len(vec))"
   ]
  },
  {
   "cell_type": "markdown",
   "metadata": {},
   "source": [
    "30. Multiplicar dos matrices.\n"
   ]
  },
  {
   "cell_type": "code",
   "execution_count": 119,
   "metadata": {},
   "outputs": [
    {
     "name": "stdout",
     "output_type": "stream",
     "text": [
      "la multiplicacion  es:  [[30, 55, 46], [74, 147, 114], [118, 239, 182]]\n"
     ]
    }
   ],
   "source": [
    "matriz = [\n",
    "    [1, 3, 4],\n",
    "    [5, 7, 8],\n",
    "    [9, 11, 12],\n",
    "]\n",
    "matriz2 = [\n",
    "    [3, 10, 6],\n",
    "    [5, 7, 4],\n",
    "    [3, 6, 7],\n",
    "]\n",
    "transpuesta = []\n",
    "for i in range(3):\n",
    "    transpuesta.append([fila[i] for fila in matriz2])\n",
    "matrizMulti = [[1, 3, 4],[5, 7, 8],[9, 11, 12],]\n",
    "i=0\n",
    "j=0\n",
    "for fila in matriz:\n",
    "    for colum in transpuesta:\n",
    "        matrizMulti[i][j]=fila[0]*colum[0] + fila[1]*colum[1] +fila[2]*colum[2]\n",
    "        j+=1\n",
    "    i+=1\n",
    "    j=0\n",
    "    \n",
    "print(\"la multiplicacion  es: \", matrizMulti)"
   ]
  },
  {
   "cell_type": "code",
   "execution_count": null,
   "metadata": {},
   "outputs": [],
   "source": []
  }
 ],
 "metadata": {
  "kernelspec": {
   "display_name": "Python 3",
   "language": "python",
   "name": "python3"
  },
  "language_info": {
   "codemirror_mode": {
    "name": "ipython",
    "version": 3
   },
   "file_extension": ".py",
   "mimetype": "text/x-python",
   "name": "python",
   "nbconvert_exporter": "python",
   "pygments_lexer": "ipython3",
   "version": "3.7.4"
  }
 },
 "nbformat": 4,
 "nbformat_minor": 2
}
